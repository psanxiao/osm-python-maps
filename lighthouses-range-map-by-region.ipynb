{
 "cells": [
  {
   "cell_type": "markdown",
   "metadata": {},
   "source": [
    "# Visualización de Faros por Región\n",
    "\n",
    "Este notebook permite visualizar los faros de una región específica utilizando la API de Overpass y folium para la visualización del mapa."
   ]
  },
  {
   "cell_type": "markdown",
   "metadata": {},
   "source": [
    "En los notebooks podemos incluir la instalación de las dependencias necesarias, como por ejemplo en este caso con pip."
   ]
  },
  {
   "cell_type": "code",
   "execution_count": null,
   "metadata": {},
   "outputs": [],
   "source": [
    "# Instalación de dependencias necesarias\n",
    "%pip install overpass folium pandas"
   ]
  },
  {
   "cell_type": "markdown",
   "metadata": {},
   "source": [
    "## Importación de Librerías\n",
    "- **overpass**: Para acceder a datos de OpenStreetMap\n",
    "- **folium**: Para crear mapas interactivos\n",
    "- **pandas**: Para manejo de datos\n",
    "- **math**: Para cálculos matemáticos\n",
    "- **IPython.display**: Para mostrar el mapa en el notebook"
   ]
  },
  {
   "cell_type": "code",
   "execution_count": 3,
   "metadata": {},
   "outputs": [],
   "source": [
    "import overpass\n",
    "import folium\n",
    "from folium import plugins\n",
    "import pandas as pd\n",
    "from IPython.display import display\n",
    "import math"
   ]
  },
  {
   "cell_type": "markdown",
   "metadata": {},
   "source": [
    "## Obtención de Datos de Faros\n",
    "La función `get_lighthouses()`:\n",
    "- Recibe el nombre de una región\n",
    "- Construye una consulta Overpass que:\n",
    "  - Busca el área administrativa de nivel 4 (región)\n",
    "  - Encuentra todos los faros (nodos, vías y relaciones)\n",
    "  - Obtiene su geometría completa\n",
    "- Maneja errores y timeout de la API"
   ]
  },
  {
   "cell_type": "code",
   "execution_count": 4,
   "metadata": {},
   "outputs": [],
   "source": [
    "def get_lighthouses(region):\n",
    "    \"\"\"Obtiene los faros de una región específica usando Overpass API.\"\"\"\n",
    "    api = overpass.API(timeout=25)\n",
    "    \n",
    "    # Consulta para encontrar faros en la región especificada\n",
    "    query = f\"\"\"\n",
    "    area[\"admin_level\"=\"4\"][\"name\"=\"{region}\"]->.searchArea;\n",
    "    (\n",
    "      node[\"man_made\"=\"lighthouse\"](area.searchArea);\n",
    "      way[\"man_made\"=\"lighthouse\"](area.searchArea);\n",
    "      relation[\"man_made\"=\"lighthouse\"](area.searchArea);\n",
    "    );\n",
    "    out geom;\n",
    "    \"\"\"\n",
    "    \n",
    "    try:\n",
    "        result = api.get(query)\n",
    "        print(f\"Encontrados {len(result.get('features', []))} elementos\")\n",
    "        return result\n",
    "    except Exception as e:\n",
    "        print(f\"Error al obtener datos: {e}\")\n",
    "        return None"
   ]
  },
  {
   "cell_type": "markdown",
   "metadata": {},
   "source": [
    "## Procesamiento de Coordenadas\n",
    "La función `get_coordinates_from_feature()`:\n",
    "- Extrae coordenadas de elementos GeoJSON\n",
    "- Convierte del formato [lon, lat] a [lat, lon]\n",
    "- Valida que el elemento sea un punto"
   ]
  },
  {
   "cell_type": "code",
   "execution_count": 5,
   "metadata": {},
   "outputs": [],
   "source": [
    "def get_coordinates_from_feature(feature):\n",
    "    \"\"\"Extrae las coordenadas de un feature GeoJSON.\"\"\"\n",
    "    if feature.get('geometry', {}).get('type') == 'Point':\n",
    "        # Las coordenadas en GeoJSON están en formato [lon, lat]\n",
    "        lon, lat = feature['geometry']['coordinates']\n",
    "        return lat, lon\n",
    "    return None"
   ]
  },
  {
   "cell_type": "markdown",
   "metadata": {},
   "source": [
    "## Generación de Popups\n",
    "La función `generate_popup()`:\n",
    "- Crea el contenido HTML para los popups\n",
    "- Incluye información detallada:\n",
    "  - Nombre del faro\n",
    "  - Nombre alternativo\n",
    "  - Características técnicas\n",
    "  - Enlaces a Wikidata/Wikipedia"
   ]
  },
  {
   "cell_type": "code",
   "execution_count": 6,
   "metadata": {},
   "outputs": [],
   "source": [
    "def generate_popup(properties):\n",
    "    \"\"\"Genera el texto del popup basado en las propiedades de un faro.\"\"\"\n",
    "    # Extraer el nombre y usar un valor predeterminado si falta\n",
    "    name = properties.get('name', 'Faro sin nombre')\n",
    "    popup_text = f\"<b>{name}</b><br>\"\n",
    "\n",
    "    # Añadir detalles específicos del faro si están presentes\n",
    "    if 'alt_name' in properties:\n",
    "        popup_text += f\"Nombre alternativo: {properties['alt_name']}<br>\"\n",
    "    if 'seamark:light:character' in properties:\n",
    "        popup_text += f\"Característica: {properties['seamark:light:character']}<br>\"\n",
    "    if 'seamark:light:colour' in properties:\n",
    "        popup_text += f\"Color: {properties['seamark:light:colour']}<br>\"\n",
    "    if 'seamark:light:range' in properties:\n",
    "        popup_text += f\"Alcance: {properties['seamark:light:range']} millas náuticas<br>\"\n",
    "    if 'seamark:light:height' in properties:\n",
    "        popup_text += f\"Altura: {properties['seamark:light:height']} m<br>\"\n",
    "    if 'seamark:light:period' in properties:\n",
    "        popup_text += f\"Período: {properties['seamark:light:period']} s<br>\"\n",
    "    if 'seamark:light:sequence' in properties:\n",
    "        popup_text += f\"Secuencia: {properties['seamark:light:sequence']}<br>\"\n",
    "    if 'wikidata' in properties:\n",
    "        popup_text += (\n",
    "            f\"<a href='https://www.wikidata.org/wiki/{properties['wikidata']}' target='_blank'>\"\n",
    "            \"Ver en Wikidata</a><br>\"\n",
    "        )\n",
    "    if 'wikipedia' in properties:\n",
    "        popup_text += (\n",
    "            f\"<a href='https://{properties['wikipedia']}' target='_blank'>\"\n",
    "            \"Ver en Wikipedia</a><br>\"\n",
    "        )\n",
    "    \n",
    "    return popup_text\n"
   ]
  },
  {
   "cell_type": "markdown",
   "metadata": {},
   "source": [
    "## Creación del Mapa Interactivo\n",
    "La función `create_lighthouse_map()` es el núcleo de la visualización:\n",
    "\n",
    "### Características principales:\n",
    "1. **Marcadores Dinámicos**:\n",
    "   - El halo varía según el alcance del faro\n",
    "   - Color amarillo para simular la luz\n",
    "   - Tamaño proporcional al alcance\n",
    "\n",
    "2. **Información Detallada**:\n",
    "   - Popups con datos técnicos\n",
    "   - Enlaces a recursos externos\n",
    "   - Estado del faro\n",
    "\n",
    "3. **Estilo del Mapa**:\n",
    "   - Tema oscuro (CartoDB Dark_Matter)\n",
    "   - Escala adaptativa\n",
    "   - Zoom automático a la región"
   ]
  },
  {
   "cell_type": "code",
   "execution_count": 7,
   "metadata": {},
   "outputs": [],
   "source": [
    "import folium\n",
    "\n",
    "def create_lighthouse_map(region):\n",
    "    \"\"\"Crea un mapa interactivo con marcadores personalizados cuyo halo varía según el alcance del faro.\"\"\"\n",
    "    try:\n",
    "        # Obtener los datos de los faros (reemplazar con tus datos reales)\n",
    "        lighthouses = get_lighthouses(region)  # Simula una llamada para obtener el JSON\n",
    "        if not lighthouses or 'features' not in lighthouses:\n",
    "            print(f\"No se encontraron faros en {region}\")\n",
    "            return\n",
    "\n",
    "        # Extraer las coordenadas válidas\n",
    "        coordinates = [\n",
    "            feature['geometry']['coordinates'][::-1]  # Invertir lat/lon\n",
    "            for feature in lighthouses['features']\n",
    "            if feature['geometry']['type'] == 'Point'\n",
    "        ]\n",
    "        \n",
    "        if not coordinates:\n",
    "            print(\"No se encontraron coordenadas válidas\")\n",
    "            return\n",
    "\n",
    "        # Encontrar los valores máximo y mínimo de 'range' para normalizar el halo\n",
    "        ranges = []\n",
    "        for feature in lighthouses['features']:\n",
    "            range_str = feature['properties'].get('seamark:light:range', '0')\n",
    "            try:\n",
    "                range_value = float(range_str)\n",
    "                ranges.append(range_value)\n",
    "            except ValueError:\n",
    "                continue\n",
    "        \n",
    "        if not ranges:\n",
    "            print(\"No se encontraron valores válidos para 'range'\")\n",
    "            return\n",
    "        \n",
    "        max_range = max(ranges)\n",
    "        min_range = min(ranges)\n",
    "\n",
    "        # Crear el mapa con un tema oscuro\n",
    "        m = folium.Map(\n",
    "            location=[sum(c[0] for c in coordinates) / len(coordinates),\n",
    "                      sum(c[1] for c in coordinates) / len(coordinates)],\n",
    "            zoom_start=9,\n",
    "            tiles=\"CartoDB Dark_Matter\"\n",
    "        )\n",
    "\n",
    "        # Añadir los faros al mapa con marcadores personalizados\n",
    "        for feature in lighthouses['features']:\n",
    "            if feature['geometry']['type'] == 'Point':\n",
    "                coords = feature['geometry']['coordinates'][::-1]  # Invertir lat/lon\n",
    "                properties = feature.get('properties', {})\n",
    "                popup_text = generate_popup(properties)\n",
    "                \n",
    "                # Obtener el valor de 'range' del faro y convertirlo a un número (si es posible)\n",
    "                range_str = properties.get('seamark:light:range', '0')\n",
    "                try:\n",
    "                    range_value = float(range_str)  # Intentamos convertir el valor de 'range' a float\n",
    "                except ValueError:\n",
    "                    range_value = 0  # Si no se puede convertir, asignamos un valor por defecto (0)\n",
    "\n",
    "                # Normalizar el halo en función del 'range'\n",
    "                if range_value > 0:\n",
    "                    # Mapeamos el 'range' entre un rango de 15 a 100 para el halo (más pequeño)\n",
    "                    halo_radius = 15 + ((range_value - min_range) / (max_range - min_range)) * 85\n",
    "                else:\n",
    "                    halo_radius = 15  # Si no tiene un valor de 'range', un halo mínimo\n",
    "                \n",
    "                # Crear el marcador luminoso con un círculo pequeño\n",
    "                icon_html = f\"\"\"\n",
    "                <div style=\"\n",
    "                    background-color: rgba(255, 255, 0, 0.5);\n",
    "                    border-radius: 50%;\n",
    "                    width: 10px;  # Tamaño base pequeño\n",
    "                    height: 10px;  # Tamaño base pequeño\n",
    "                    position: relative;\n",
    "                    box-shadow: 0 0 {halo_radius}px {halo_radius / 3}px rgba(255, 255, 0, 0.7);\n",
    "                    \">\n",
    "                </div>\n",
    "                \"\"\"\n",
    "                \n",
    "                # Crear el marcador con un ícono personalizado\n",
    "                folium.Marker(\n",
    "                    location=coords,\n",
    "                    icon=folium.DivIcon(html=icon_html),\n",
    "                    popup=folium.Popup(popup_text, max_width=300)\n",
    "                ).add_to(m)\n",
    "\n",
    "        return m\n",
    "    except Exception as e:\n",
    "        print(f\"Error al crear el mapa: {e}\")\n"
   ]
  },
  {
   "cell_type": "markdown",
   "metadata": {},
   "source": [
    "## Ejemplo de Uso\n",
    "Demostración práctica:\n",
    "- Se puede especificar cualquier región (ej: \"Galicia\", \"Catalunya\", \"Andalucía\")\n",
    "- El mapa se ajusta automáticamente a la región seleccionada\n",
    "- Muestra todos los faros disponibles en OpenStreetMap\n",
    "\n",
    "### Notas:\n",
    "- La calidad de los datos depende de OpenStreetMap\n",
    "- Algunas regiones pueden tener datos más completos que otras\n",
    "- El tiempo de respuesta depende de la API de Overpass"
   ]
  },
  {
   "cell_type": "code",
   "execution_count": null,
   "metadata": {},
   "outputs": [],
   "source": [
    "# Ejemplo con Galicia\n",
    "region = \"Galicia\"\n",
    "mapa = create_lighthouse_map(region)\n",
    "if mapa:\n",
    "    display(mapa)"
   ]
  },
  {
   "cell_type": "markdown",
   "metadata": {},
   "source": [
    "## Referencias y Recursos\n",
    "- [Documentación de Overpass API](https://wiki.openstreetmap.org/wiki/Overpass_API)\n",
    "- [Documentación de Folium](https://python-visualization.github.io/folium/)\n",
    "- [OpenStreetMap Wiki - Lighthouse Tag](https://wiki.openstreetmap.org/wiki/Tag:man_made%3Dlighthouse)"
   ]
  }
 ],
 "metadata": {
  "kernelspec": {
   "display_name": "base",
   "language": "python",
   "name": "python3"
  },
  "language_info": {
   "codemirror_mode": {
    "name": "ipython",
    "version": 3
   },
   "file_extension": ".py",
   "mimetype": "text/x-python",
   "name": "python",
   "nbconvert_exporter": "python",
   "pygments_lexer": "ipython3",
   "version": "3.9.12"
  }
 },
 "nbformat": 4,
 "nbformat_minor": 4
}
