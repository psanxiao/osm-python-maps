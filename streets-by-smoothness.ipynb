{
 "cells": [
  {
   "cell_type": "markdown",
   "metadata": {},
   "source": [
    "### Dependencias necesarias"
   ]
  },
  {
   "cell_type": "code",
   "execution_count": 37,
   "metadata": {},
   "outputs": [],
   "source": [
    "import overpass\n",
    "import geopandas\n",
    "import matplotlib.pyplot as plt"
   ]
  },
  {
   "cell_type": "markdown",
   "metadata": {},
   "source": [
    "### Obtener las calles de Iñas con la API de Overpass"
   ]
  },
  {
   "cell_type": "markdown",
   "metadata": {},
   "source": [
    "Buscamos las calles/carreteras de titularidad municipal. Usamos la etiqueta de osm \"highway\" = \"residential\" y usamos formato de salida GeoJSON"
   ]
  },
  {
   "cell_type": "code",
   "execution_count": 38,
   "metadata": {},
   "outputs": [],
   "source": [
    "api = overpass.API()\n",
    "result = api.get(\"\"\"\n",
    "area[\"name\"~\"^Iñás$\"];\n",
    "way[\"highway\" = \"residential\"](area);\n",
    "(._;>;);\n",
    "out geom;\"\"\", responseformat=\"geojson\")"
   ]
  },
  {
   "cell_type": "markdown",
   "metadata": {},
   "source": [
    "### Procesar el resultado de Overpass"
   ]
  },
  {
   "cell_type": "markdown",
   "metadata": {},
   "source": [
    "Con geopandas obtenemos el geoDataFrame a partir del GeoJSON de Overpass. Ajustamos el crs para hacerlo compatible con el mapa base que vamos a usar después. Primero tenemos que asignarle en el que vienen los datos de OSM (4326), y luego lo cambiamos al 3857 (Web Mercator), que es el estándar de facto en aplicaciones web de mapas."
   ]
  },
  {
   "cell_type": "code",
   "execution_count": 39,
   "metadata": {},
   "outputs": [],
   "source": [
    "streetsDataFrame = geopandas.GeoDataFrame.from_features(result['features'])\n",
    "streetsDataFrame.crs = \"EPSG:4326\"\n",
    "streetsDataFrame=streetsDataFrame.to_crs(epsg=3857)"
   ]
  },
  {
   "cell_type": "code",
   "execution_count": null,
   "metadata": {},
   "outputs": [],
   "source": [
    "streetsDataFrame.columns"
   ]
  },
  {
   "cell_type": "markdown",
   "metadata": {},
   "source": [
    "### Creamos la visualización del mapa"
   ]
  },
  {
   "cell_type": "markdown",
   "metadata": {},
   "source": [
    "Primero importamos contextily, que es un paquete Python que nos permite usar mapas base habituales en las aplicaciones web de mapas. Específicamente nos permite usar esos mapas base con matplotlib, que es una librería para generar gráficos y figuras, pero que también es capaz de generar mapas estáticos.\n",
    "\n",
    "Aquí vamos a jugar básicamente con opciones de matplotlib para generar un mapa estático con nuestros datos, crear una leyenda para ver las calles por colores, en base a su estado, y ponerle un título al mapa."
   ]
  },
  {
   "cell_type": "code",
   "execution_count": null,
   "metadata": {},
   "outputs": [],
   "source": [
    "import contextily as ctx\n",
    "\n",
    "fig, ax = plt.subplots(figsize=(50, 50))\n",
    "colors = {'good': 'green', 'bad': 'red', 'intermediate': 'orange', 'very_bad': 'black'}\n",
    "\n",
    "# Filtramos solo las calles que tienen valor de smoothness\n",
    "streets_with_smoothness = streetsDataFrame.dropna(subset=['smoothness'])\n",
    "\n",
    "for state, data in streets_with_smoothness.groupby('smoothness'):\n",
    "    if state in colors:  # Solo plotear si tenemos un color definido\n",
    "        color = colors[state]\n",
    "        data.plot(\n",
    "            color=color,\n",
    "            ax=ax,\n",
    "            label=state,\n",
    "            linewidth=2\n",
    "        )\n",
    "\n",
    "# Añadir mapa base\n",
    "ctx.add_basemap(ax, \n",
    "                source=ctx.providers.CartoDB.Positron,\n",
    "                zoom=15)\n",
    "\n",
    "plt.title(\"Estado del pavimento en las calles de Iñás\", \n",
    "          pad=20,  # Espacio entre el título y el gráfico\n",
    "          fontsize=40,  # Tamaño de la fuente\n",
    "          fontweight='bold')  # Negrita\n",
    "ax.legend(bbox_to_anchor=(1.0, .5), prop={'size': 28})\n",
    "\n",
    "plt.show()"
   ]
  }
 ],
 "metadata": {
  "kernelspec": {
   "display_name": "base",
   "language": "python",
   "name": "python3"
  },
  "language_info": {
   "codemirror_mode": {
    "name": "ipython",
    "version": 3
   },
   "file_extension": ".py",
   "mimetype": "text/x-python",
   "name": "python",
   "nbconvert_exporter": "python",
   "pygments_lexer": "ipython3",
   "version": "3.9.12"
  }
 },
 "nbformat": 4,
 "nbformat_minor": 2
}
