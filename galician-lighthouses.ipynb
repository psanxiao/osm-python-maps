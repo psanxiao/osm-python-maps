{
 "cells": [
  {
   "cell_type": "markdown",
   "metadata": {},
   "source": [
    "# Visualización de Faros de Galicia\n",
    "Este notebook crea un mapa interactivo de los faros de Galicia utilizando datos de OpenStreetMap."
   ]
  },
  {
   "cell_type": "code",
   "execution_count": 1,
   "metadata": {},
   "outputs": [],
   "source": [
    "import geopandas\n",
    "import overpass"
   ]
  },
  {
   "cell_type": "markdown",
   "metadata": {},
   "source": [
    "Realizamos una consulta a la API de Overpass para obtener los faros de Galicia:\n",
    "- Definimos el área de búsqueda (Galicia)\n",
    "- Buscamos nodos con la etiqueta \"man_made=lighthouse\"\n",
    "- Solicitamos los datos en formato GeoJSON"
   ]
  },
  {
   "cell_type": "code",
   "execution_count": 2,
   "metadata": {},
   "outputs": [],
   "source": [
    "api = overpass.API()\n",
    "faros = api.get(\"\"\"\n",
    "area[name = \"Galicia\"];\n",
    "node[\"man_made\" = \"lighthouse\"](area);\n",
    "out body;\"\"\", responseformat=\"geojson\")"
   ]
  },
  {
   "cell_type": "markdown",
   "metadata": {},
   "source": [
    "Convertimos los datos GeoJSON a un GeoDataFrame de geopandas para facilitar su manipulación."
   ]
  },
  {
   "cell_type": "code",
   "execution_count": 3,
   "metadata": {},
   "outputs": [],
   "source": [
    "farosData= geopandas.GeoDataFrame.from_features(faros.features)"
   ]
  },
  {
   "cell_type": "markdown",
   "metadata": {},
   "source": [
    "Creamos una primera visualización simple:\n",
    "- Puntos amarillos representando los faros\n",
    "- Fondo negro para mejor contraste\n",
    "- Tamaño de figura grande (60x60)"
   ]
  },
  {
   "cell_type": "code",
   "execution_count": null,
   "metadata": {},
   "outputs": [],
   "source": [
    "ax = farosData.plot(color=\"yellow\", figsize=(60, 60))\n",
    "ax.set_facecolor('black')"
   ]
  },
  {
   "cell_type": "markdown",
   "metadata": {},
   "source": [
    "Creamos un mapa interactivo más elaborado usando folium:\n",
    "\n",
    "### Características del mapa:\n",
    "1. **Mapa Base**: \n",
    "   - Centrado en Galicia [42.8, -8.5]\n",
    "   - Zoom inicial nivel 8\n",
    "   - Estilo CartoDB positron por defecto\n",
    "\n",
    "2. **Marcadores**:\n",
    "   - Icono de faro en color naranja\n",
    "   - Popup con información detallada:\n",
    "     - Nombre del faro\n",
    "     - Características técnicas\n",
    "     - Alcance y altura\n",
    "     - Período y secuencia de luz\n",
    "\n",
    "3. **Elementos adicionales**:\n",
    "   - Mini mapa para orientación\n",
    "   - Control de escala y medición\n",
    "   - Diferentes capas base disponibles\n",
    "   - Control de capas\n",
    "\n",
    "Exportamos el código del visor a un fichero html, que podemos ejecutar directamente desde un navegador web."
   ]
  },
  {
   "cell_type": "code",
   "execution_count": null,
   "metadata": {},
   "outputs": [],
   "source": [
    "import folium\n",
    "from folium import plugins\n",
    "\n",
    "farosData.crs = \"EPSG:4326\"\n",
    "\n",
    "# Creamos el mapa centrado en Galicia\n",
    "m = folium.Map(location=[42.8, -8.5], \n",
    "               zoom_start=8,\n",
    "               tiles='CartoDB positron')\n",
    "\n",
    "# Añadimos los faros al mapa\n",
    "for idx, row in farosData.iterrows():\n",
    "    # Preparamos el popup con la información disponible\n",
    "    popup_text = \"<b>Faro</b><br>\"\n",
    "    if 'name' in row:\n",
    "        popup_text += f\"Nombre: {row['name']}<br>\"\n",
    "    if 'alt_name' in row:\n",
    "        popup_text += f\"Nombre alternativo: {row['alt_name']}<br>\"\n",
    "    if 'seamark:light:character' in row:\n",
    "        popup_text += f\"Característica: {row['seamark:light:character']}<br>\"\n",
    "    if 'seamark:light:colour' in row:\n",
    "        popup_text += f\"Color: {row['seamark:light:colour']}<br>\"\n",
    "    if 'seamark:light:range' in row:\n",
    "        popup_text += f\"Alcance: {row['seamark:light:range']} millas náuticas<br>\"\n",
    "    if 'seamark:light:height' in row:\n",
    "        popup_text += f\"Altura: {row['seamark:light:height']} m<br>\"\n",
    "    if 'seamark:light:period' in row:\n",
    "        popup_text += f\"Período: {row['seamark:light:period']} s<br>\"\n",
    "    if 'seamark:light:sequence' in row:\n",
    "        popup_text += f\"Secuencia: {row['seamark:light:sequence']}<br>\"\n",
    "\n",
    "    # Añadimos el marcador\n",
    "    folium.Marker(\n",
    "        location=[row.geometry.y, row.geometry.x],\n",
    "        popup=folium.Popup(popup_text, max_width=300),\n",
    "        icon=folium.Icon(color='orange', icon='lighthouse')\n",
    "    ).add_to(m)\n",
    "\n",
    "# Añadimos un mini mapa\n",
    "minimap = plugins.MiniMap()\n",
    "m.add_child(minimap)\n",
    "\n",
    "# Añadimos control de escala\n",
    "folium.plugins.MousePosition().add_to(m)\n",
    "folium.plugins.MeasureControl().add_to(m)\n",
    "\n",
    "# Añadimos diferentes capas base\n",
    "folium.TileLayer('openstreetmap').add_to(m)\n",
    "folium.TileLayer('cartodbdark_matter').add_to(m)\n",
    "\n",
    "# Añadimos control de capas\n",
    "folium.LayerControl().add_to(m)\n",
    "\n",
    "# Guardamos el mapa\n",
    "m.save('faros_galicia.html')\n",
    "\n",
    "# Mostramos el mapa en el notebook\n",
    "display(m)"
   ]
  }
 ],
 "metadata": {
  "kernelspec": {
   "display_name": "base",
   "language": "python",
   "name": "python3"
  },
  "language_info": {
   "codemirror_mode": {
    "name": "ipython",
    "version": 3
   },
   "file_extension": ".py",
   "mimetype": "text/x-python",
   "name": "python",
   "nbconvert_exporter": "python",
   "pygments_lexer": "ipython3",
   "version": "3.9.12"
  },
  "orig_nbformat": 4
 },
 "nbformat": 4,
 "nbformat_minor": 2
}
