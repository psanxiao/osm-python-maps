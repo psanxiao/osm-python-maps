{
 "cells": [
  {
   "cell_type": "code",
   "execution_count": 5,
   "id": "5934e0a1-8c82-4add-8dd4-0033ba3d4b37",
   "metadata": {},
   "outputs": [],
   "source": [
    "import geopandas\n",
    "import osm2geojson"
   ]
  },
  {
   "cell_type": "markdown",
   "id": "b7245e5d-719d-4d0b-8d59-aa41586b0d6a",
   "metadata": {},
   "source": [
    "Let's see different Python libraries to get data from OSM. As example we're goint to get data of Lighthouses in Galician area."
   ]
  },
  {
   "cell_type": "markdown",
   "id": "300dd0f3-8f6f-45ab-9ea6-5c3e380a5456",
   "metadata": {
    "tags": []
   },
   "source": [
    "## Overpass\n",
    "Simple Python wrapper by Martijn van Exel  \n",
    "[https://github.com/mvexel/overpass-api-python-wrapper](https://github.com/mvexel/overpass-api-python-wrapper)"
   ]
  },
  {
   "cell_type": "code",
   "execution_count": 6,
   "id": "1edd298c-918b-4f50-84d7-b14a75211aa5",
   "metadata": {},
   "outputs": [],
   "source": [
    "import overpass"
   ]
  },
  {
   "cell_type": "code",
   "execution_count": 7,
   "id": "10c95305-48a9-4b7c-8008-15917a9ad106",
   "metadata": {},
   "outputs": [],
   "source": [
    "api = overpass.API()\n",
    "faros = api.get(\"\"\"\n",
    "area[name = \"Galicia\"];\n",
    "node[\"man_made\" = \"lighthouse\"](area);\n",
    "out body;\"\"\", responseformat=\"geojson\")"
   ]
  },
  {
   "cell_type": "code",
   "execution_count": 8,
   "id": "c053033d-4e9b-4ea8-9372-0ce84db5a163",
   "metadata": {},
   "outputs": [],
   "source": [
    "farosData= geopandas.GeoDataFrame.from_features(faros.features)"
   ]
  },
  {
   "cell_type": "code",
   "execution_count": 9,
   "id": "32ad13ae-112e-46d5-afb6-66f496758c85",
   "metadata": {},
   "outputs": [
    {
     "data": {
      "text/html": [
       "<div>\n",
       "<style scoped>\n",
       "    .dataframe tbody tr th:only-of-type {\n",
       "        vertical-align: middle;\n",
       "    }\n",
       "\n",
       "    .dataframe tbody tr th {\n",
       "        vertical-align: top;\n",
       "    }\n",
       "\n",
       "    .dataframe thead th {\n",
       "        text-align: right;\n",
       "    }\n",
       "</style>\n",
       "<table border=\"1\" class=\"dataframe\">\n",
       "  <thead>\n",
       "    <tr style=\"text-align: right;\">\n",
       "      <th></th>\n",
       "      <th>geometry</th>\n",
       "      <th>description</th>\n",
       "      <th>height</th>\n",
       "      <th>man_made</th>\n",
       "      <th>name</th>\n",
       "      <th>seamark:light:character</th>\n",
       "      <th>seamark:light:colour</th>\n",
       "      <th>seamark:light:height</th>\n",
       "      <th>seamark:light:period</th>\n",
       "      <th>seamark:light:range</th>\n",
       "      <th>...</th>\n",
       "      <th>seamark:light:2:category</th>\n",
       "      <th>seamark:light:3:category</th>\n",
       "      <th>seamark:beacon_special_purpose:colour</th>\n",
       "      <th>seamark:beacon_special_purpose:elevation</th>\n",
       "      <th>seamark:beacon_special_purpose:shape</th>\n",
       "      <th>heritage:operator</th>\n",
       "      <th>historic</th>\n",
       "      <th>seamark:light:2:orientation</th>\n",
       "      <th>colour</th>\n",
       "      <th>note</th>\n",
       "    </tr>\n",
       "  </thead>\n",
       "  <tbody>\n",
       "    <tr>\n",
       "      <th>0</th>\n",
       "      <td>POINT (-8.99052 43.27492)</td>\n",
       "      <td>El nombre de Roncudo viene del ruido ronco que...</td>\n",
       "      <td>11</td>\n",
       "      <td>lighthouse</td>\n",
       "      <td>Faro Roncudo</td>\n",
       "      <td>Fl</td>\n",
       "      <td>white</td>\n",
       "      <td>38</td>\n",
       "      <td>6</td>\n",
       "      <td>10</td>\n",
       "      <td>...</td>\n",
       "      <td>NaN</td>\n",
       "      <td>NaN</td>\n",
       "      <td>NaN</td>\n",
       "      <td>NaN</td>\n",
       "      <td>NaN</td>\n",
       "      <td>NaN</td>\n",
       "      <td>NaN</td>\n",
       "      <td>NaN</td>\n",
       "      <td>NaN</td>\n",
       "      <td>NaN</td>\n",
       "    </tr>\n",
       "    <tr>\n",
       "      <th>1</th>\n",
       "      <td>POINT (-8.80110 42.39662)</td>\n",
       "      <td>NaN</td>\n",
       "      <td>NaN</td>\n",
       "      <td>lighthouse</td>\n",
       "      <td>NaN</td>\n",
       "      <td>Fl</td>\n",
       "      <td>red</td>\n",
       "      <td>8</td>\n",
       "      <td>12</td>\n",
       "      <td>4</td>\n",
       "      <td>...</td>\n",
       "      <td>NaN</td>\n",
       "      <td>NaN</td>\n",
       "      <td>NaN</td>\n",
       "      <td>NaN</td>\n",
       "      <td>NaN</td>\n",
       "      <td>NaN</td>\n",
       "      <td>NaN</td>\n",
       "      <td>NaN</td>\n",
       "      <td>NaN</td>\n",
       "      <td>NaN</td>\n",
       "    </tr>\n",
       "    <tr>\n",
       "      <th>2</th>\n",
       "      <td>POINT (-8.31454 43.56765)</td>\n",
       "      <td>NaN</td>\n",
       "      <td>NaN</td>\n",
       "      <td>lighthouse</td>\n",
       "      <td>Cabo Prior</td>\n",
       "      <td>Fl</td>\n",
       "      <td>white</td>\n",
       "      <td>107</td>\n",
       "      <td>15</td>\n",
       "      <td>22</td>\n",
       "      <td>...</td>\n",
       "      <td>NaN</td>\n",
       "      <td>NaN</td>\n",
       "      <td>NaN</td>\n",
       "      <td>NaN</td>\n",
       "      <td>NaN</td>\n",
       "      <td>NaN</td>\n",
       "      <td>NaN</td>\n",
       "      <td>NaN</td>\n",
       "      <td>NaN</td>\n",
       "      <td>NaN</td>\n",
       "    </tr>\n",
       "    <tr>\n",
       "      <th>3</th>\n",
       "      <td>POINT (-8.18836 43.61807)</td>\n",
       "      <td>NaN</td>\n",
       "      <td>NaN</td>\n",
       "      <td>lighthouse</td>\n",
       "      <td>Faro de Punta Frouxeira</td>\n",
       "      <td>Fl</td>\n",
       "      <td>white</td>\n",
       "      <td>75</td>\n",
       "      <td>15</td>\n",
       "      <td>20</td>\n",
       "      <td>...</td>\n",
       "      <td>NaN</td>\n",
       "      <td>NaN</td>\n",
       "      <td>NaN</td>\n",
       "      <td>NaN</td>\n",
       "      <td>NaN</td>\n",
       "      <td>NaN</td>\n",
       "      <td>NaN</td>\n",
       "      <td>NaN</td>\n",
       "      <td>NaN</td>\n",
       "      <td>NaN</td>\n",
       "    </tr>\n",
       "    <tr>\n",
       "      <th>4</th>\n",
       "      <td>POINT (-8.04710 43.71083)</td>\n",
       "      <td>NaN</td>\n",
       "      <td>NaN</td>\n",
       "      <td>lighthouse</td>\n",
       "      <td>Punta Candieira</td>\n",
       "      <td>Fl</td>\n",
       "      <td>white</td>\n",
       "      <td>89</td>\n",
       "      <td>24</td>\n",
       "      <td>21</td>\n",
       "      <td>...</td>\n",
       "      <td>NaN</td>\n",
       "      <td>NaN</td>\n",
       "      <td>NaN</td>\n",
       "      <td>NaN</td>\n",
       "      <td>NaN</td>\n",
       "      <td>NaN</td>\n",
       "      <td>NaN</td>\n",
       "      <td>NaN</td>\n",
       "      <td>NaN</td>\n",
       "      <td>NaN</td>\n",
       "    </tr>\n",
       "  </tbody>\n",
       "</table>\n",
       "<p>5 rows × 114 columns</p>\n",
       "</div>"
      ],
      "text/plain": [
       "                    geometry  \\\n",
       "0  POINT (-8.99052 43.27492)   \n",
       "1  POINT (-8.80110 42.39662)   \n",
       "2  POINT (-8.31454 43.56765)   \n",
       "3  POINT (-8.18836 43.61807)   \n",
       "4  POINT (-8.04710 43.71083)   \n",
       "\n",
       "                                         description height    man_made  \\\n",
       "0  El nombre de Roncudo viene del ruido ronco que...     11  lighthouse   \n",
       "1                                                NaN    NaN  lighthouse   \n",
       "2                                                NaN    NaN  lighthouse   \n",
       "3                                                NaN    NaN  lighthouse   \n",
       "4                                                NaN    NaN  lighthouse   \n",
       "\n",
       "                      name seamark:light:character seamark:light:colour  \\\n",
       "0             Faro Roncudo                      Fl                white   \n",
       "1                      NaN                      Fl                  red   \n",
       "2               Cabo Prior                      Fl                white   \n",
       "3  Faro de Punta Frouxeira                      Fl                white   \n",
       "4          Punta Candieira                      Fl                white   \n",
       "\n",
       "  seamark:light:height seamark:light:period seamark:light:range  ...  \\\n",
       "0                   38                    6                  10  ...   \n",
       "1                    8                   12                   4  ...   \n",
       "2                  107                   15                  22  ...   \n",
       "3                   75                   15                  20  ...   \n",
       "4                   89                   24                  21  ...   \n",
       "\n",
       "  seamark:light:2:category seamark:light:3:category  \\\n",
       "0                      NaN                      NaN   \n",
       "1                      NaN                      NaN   \n",
       "2                      NaN                      NaN   \n",
       "3                      NaN                      NaN   \n",
       "4                      NaN                      NaN   \n",
       "\n",
       "  seamark:beacon_special_purpose:colour  \\\n",
       "0                                   NaN   \n",
       "1                                   NaN   \n",
       "2                                   NaN   \n",
       "3                                   NaN   \n",
       "4                                   NaN   \n",
       "\n",
       "  seamark:beacon_special_purpose:elevation  \\\n",
       "0                                      NaN   \n",
       "1                                      NaN   \n",
       "2                                      NaN   \n",
       "3                                      NaN   \n",
       "4                                      NaN   \n",
       "\n",
       "  seamark:beacon_special_purpose:shape heritage:operator historic  \\\n",
       "0                                  NaN               NaN      NaN   \n",
       "1                                  NaN               NaN      NaN   \n",
       "2                                  NaN               NaN      NaN   \n",
       "3                                  NaN               NaN      NaN   \n",
       "4                                  NaN               NaN      NaN   \n",
       "\n",
       "  seamark:light:2:orientation colour note  \n",
       "0                         NaN    NaN  NaN  \n",
       "1                         NaN    NaN  NaN  \n",
       "2                         NaN    NaN  NaN  \n",
       "3                         NaN    NaN  NaN  \n",
       "4                         NaN    NaN  NaN  \n",
       "\n",
       "[5 rows x 114 columns]"
      ]
     },
     "execution_count": 9,
     "metadata": {},
     "output_type": "execute_result"
    }
   ],
   "source": [
    "farosData.head()"
   ]
  },
  {
   "cell_type": "code",
   "execution_count": 19,
   "id": "9c833063-763b-42dd-adfd-ea2fa74fa836",
   "metadata": {},
   "outputs": [
    {
     "data": {
      "image/png": "[encoded data removed]",
      "text/plain": [
       "<Figure size 720x720 with 1 Axes>"
      ]
     },
     "metadata": {
      "needs_background": "light"
     },
     "output_type": "display_data"
    }
   ],
   "source": [
    "plt = farosData.plot(color=\"yellow\", figsize=(10, 10))\n",
    "plt.set_facecolor('black')"
   ]
  },
  {
   "cell_type": "markdown",
   "id": "cec0f2bc-37be-41fd-a383-c4f8a8f09ab5",
   "metadata": {},
   "source": [
    "## Osmpy"
   ]
  },
  {
   "cell_type": "code",
   "execution_count": 21,
   "id": "79e2a0c0-0e9c-45d9-a6f1-be4d8122689e",
   "metadata": {},
   "outputs": [],
   "source": [
    "import osmpy\n",
    "from shapely import wkt"
   ]
  },
  {
   "cell_type": "code",
   "execution_count": 22,
   "id": "4c19fde6-48fc-472c-9b40-7e376800c817",
   "metadata": {},
   "outputs": [
    {
     "data": {
      "text/html": [
       "<div>\n",
       "<style scoped>\n",
       "    .dataframe tbody tr th:only-of-type {\n",
       "        vertical-align: middle;\n",
       "    }\n",
       "\n",
       "    .dataframe tbody tr th {\n",
       "        vertical-align: top;\n",
       "    }\n",
       "\n",
       "    .dataframe thead th {\n",
       "        text-align: right;\n",
       "    }\n",
       "</style>\n",
       "<table border=\"1\" class=\"dataframe\">\n",
       "  <thead>\n",
       "    <tr style=\"text-align: right;\">\n",
       "      <th></th>\n",
       "      <th>name</th>\n",
       "      <th>docstring</th>\n",
       "    </tr>\n",
       "  </thead>\n",
       "  <tbody>\n",
       "    <tr>\n",
       "      <th>0</th>\n",
       "      <td>Amenities</td>\n",
       "      <td>Location of amenities within a boundary</td>\n",
       "    </tr>\n",
       "    <tr>\n",
       "      <th>1</th>\n",
       "      <td>AmentiesCount</td>\n",
       "      <td>Number of amenities per type within a boundary</td>\n",
       "    </tr>\n",
       "    <tr>\n",
       "      <th>2</th>\n",
       "      <td>POIs</td>\n",
       "      <td>Location of Points of Interest within a bound...</td>\n",
       "    </tr>\n",
       "    <tr>\n",
       "      <th>3</th>\n",
       "      <td>RoadLength</td>\n",
       "      <td>Length of road by roadtype within a boundary</td>\n",
       "    </tr>\n",
       "  </tbody>\n",
       "</table>\n",
       "</div>"
      ],
      "text/plain": [
       "            name                                          docstring\n",
       "0      Amenities           Location of amenities within a boundary \n",
       "1  AmentiesCount    Number of amenities per type within a boundary \n",
       "2           POIs   Location of Points of Interest within a bound...\n",
       "3     RoadLength      Length of road by roadtype within a boundary "
      ]
     },
     "execution_count": 22,
     "metadata": {},
     "output_type": "execute_result"
    }
   ],
   "source": [
    "osmpy.list_queries()"
   ]
  },
  {
   "cell_type": "code",
   "execution_count": 23,
   "id": "2f7c7d44-409a-4b43-8b75-5197d0bd787e",
   "metadata": {},
   "outputs": [],
   "source": [
    "boundary = wkt.loads('POLYGON((-46.63 -23.54,-46.6 -23.54,-46.62 -23.55,-46.63 -23.55,-46.63 -23.54))')\n"
   ]
  },
  {
   "cell_type": "code",
   "execution_count": 24,
   "id": "09424613-d224-4898-ab41-86f2a5926ac6",
   "metadata": {},
   "outputs": [],
   "source": [
    "query = (\"\"\"\n",
    "[out:json];\n",
    "area[name = \"Galicia\"];\n",
    "node[\"man_made\" = \"lighthouse\"](area);\n",
    "out body;\"\"\")\n",
    "result = osmpy.get(query, boundary)"
   ]
  },
  {
   "cell_type": "code",
   "execution_count": 25,
   "id": "dbc93740-0b90-42b8-a283-c6b7d0618162",
   "metadata": {},
   "outputs": [
    {
     "name": "stdout",
     "output_type": "stream",
     "text": [
      "     type          id        lat       lon  \\\n",
      "0    node   278605200  43.274918 -8.990517   \n",
      "1    node   279464803  42.396617 -8.801095   \n",
      "2    node   353954167  43.567646 -8.314544   \n",
      "3    node   364101774  43.618068 -8.188365   \n",
      "4    node   388517872  43.710833 -8.047095   \n",
      "..    ...         ...        ...       ...   \n",
      "145  node  6906203760  42.590992 -8.790904   \n",
      "146  node  6916517715  42.333545 -8.798352   \n",
      "147  node  6967184339  42.234387 -8.744538   \n",
      "148  node  7981210881  43.127454 -9.182165   \n",
      "149  node  8665999327  42.728715 -9.000917   \n",
      "\n",
      "                                                  tags  \n",
      "0    {'description': 'El nombre de Roncudo viene de...  \n",
      "1    {'man_made': 'lighthouse', 'seamark:light:char...  \n",
      "2    {'man_made': 'lighthouse', 'name': 'Cabo Prior...  \n",
      "3    {'man_made': 'lighthouse', 'name': 'Faro de Pu...  \n",
      "4    {'alt_name': 'Punta Candeeira', 'man_made': 'l...  \n",
      "..                                                 ...  \n",
      "145  {'man_made': 'lighthouse', 'seamark:type': 'li...  \n",
      "146  {'man_made': 'lighthouse', 'seamark:type': 'li...  \n",
      "147  {'man_made': 'lighthouse', 'seamark:type': 'li...  \n",
      "148  {'man_made': 'lighthouse', 'seamark:light:char...  \n",
      "149  {'man_made': 'lighthouse', 'name': 'Faro Verde...  \n",
      "\n",
      "[150 rows x 5 columns]\n"
     ]
    }
   ],
   "source": [
    "print(result)"
   ]
  },
  {
   "cell_type": "code",
   "execution_count": 26,
   "id": "7a065c5b-ed92-406f-8781-9d6ef3759811",
   "metadata": {},
   "outputs": [
    {
     "data": {
      "text/html": [
       "<div>\n",
       "<style scoped>\n",
       "    .dataframe tbody tr th:only-of-type {\n",
       "        vertical-align: middle;\n",
       "    }\n",
       "\n",
       "    .dataframe tbody tr th {\n",
       "        vertical-align: top;\n",
       "    }\n",
       "\n",
       "    .dataframe thead th {\n",
       "        text-align: right;\n",
       "    }\n",
       "</style>\n",
       "<table border=\"1\" class=\"dataframe\">\n",
       "  <thead>\n",
       "    <tr style=\"text-align: right;\">\n",
       "      <th></th>\n",
       "      <th>type</th>\n",
       "      <th>id</th>\n",
       "      <th>lat</th>\n",
       "      <th>lon</th>\n",
       "      <th>tags</th>\n",
       "      <th>geometry</th>\n",
       "    </tr>\n",
       "  </thead>\n",
       "  <tbody>\n",
       "    <tr>\n",
       "      <th>0</th>\n",
       "      <td>node</td>\n",
       "      <td>278605200</td>\n",
       "      <td>43.274918</td>\n",
       "      <td>-8.990517</td>\n",
       "      <td>{'description': 'El nombre de Roncudo viene de...</td>\n",
       "      <td>POINT (-8.99052 43.27492)</td>\n",
       "    </tr>\n",
       "    <tr>\n",
       "      <th>1</th>\n",
       "      <td>node</td>\n",
       "      <td>279464803</td>\n",
       "      <td>42.396617</td>\n",
       "      <td>-8.801095</td>\n",
       "      <td>{'man_made': 'lighthouse', 'seamark:light:char...</td>\n",
       "      <td>POINT (-8.80109 42.39662)</td>\n",
       "    </tr>\n",
       "    <tr>\n",
       "      <th>2</th>\n",
       "      <td>node</td>\n",
       "      <td>353954167</td>\n",
       "      <td>43.567646</td>\n",
       "      <td>-8.314544</td>\n",
       "      <td>{'man_made': 'lighthouse', 'name': 'Cabo Prior...</td>\n",
       "      <td>POINT (-8.31454 43.56765)</td>\n",
       "    </tr>\n",
       "    <tr>\n",
       "      <th>3</th>\n",
       "      <td>node</td>\n",
       "      <td>364101774</td>\n",
       "      <td>43.618068</td>\n",
       "      <td>-8.188365</td>\n",
       "      <td>{'man_made': 'lighthouse', 'name': 'Faro de Pu...</td>\n",
       "      <td>POINT (-8.18836 43.61807)</td>\n",
       "    </tr>\n",
       "    <tr>\n",
       "      <th>4</th>\n",
       "      <td>node</td>\n",
       "      <td>388517872</td>\n",
       "      <td>43.710833</td>\n",
       "      <td>-8.047095</td>\n",
       "      <td>{'alt_name': 'Punta Candeeira', 'man_made': 'l...</td>\n",
       "      <td>POINT (-8.04709 43.71083)</td>\n",
       "    </tr>\n",
       "  </tbody>\n",
       "</table>\n",
       "</div>"
      ],
      "text/plain": [
       "   type         id        lat       lon  \\\n",
       "0  node  278605200  43.274918 -8.990517   \n",
       "1  node  279464803  42.396617 -8.801095   \n",
       "2  node  353954167  43.567646 -8.314544   \n",
       "3  node  364101774  43.618068 -8.188365   \n",
       "4  node  388517872  43.710833 -8.047095   \n",
       "\n",
       "                                                tags  \\\n",
       "0  {'description': 'El nombre de Roncudo viene de...   \n",
       "1  {'man_made': 'lighthouse', 'seamark:light:char...   \n",
       "2  {'man_made': 'lighthouse', 'name': 'Cabo Prior...   \n",
       "3  {'man_made': 'lighthouse', 'name': 'Faro de Pu...   \n",
       "4  {'alt_name': 'Punta Candeeira', 'man_made': 'l...   \n",
       "\n",
       "                    geometry  \n",
       "0  POINT (-8.99052 43.27492)  \n",
       "1  POINT (-8.80109 42.39662)  \n",
       "2  POINT (-8.31454 43.56765)  \n",
       "3  POINT (-8.18836 43.61807)  \n",
       "4  POINT (-8.04709 43.71083)  "
      ]
     },
     "execution_count": 26,
     "metadata": {},
     "output_type": "execute_result"
    }
   ],
   "source": [
    "from shapely.geometry import Point\n",
    "geometry = [Point(xy) for xy in zip(result['lon'], result['lat'])]\n",
    "from geopandas import GeoDataFrame\n",
    "gdf = GeoDataFrame(result, geometry=geometry)\n",
    "gdf.head()"
   ]
  },
  {
   "cell_type": "code",
   "execution_count": 27,
   "id": "f5753c76-c835-46d0-968d-3fe19755b238",
   "metadata": {},
   "outputs": [
    {
     "data": {
      "image/png": "[encoded data removed]",
      "text/plain": [
       "<Figure size 720x720 with 1 Axes>"
      ]
     },
     "metadata": {
      "needs_background": "light"
     },
     "output_type": "display_data"
    }
   ],
   "source": [
    "plt = gdf.plot(color=\"yellow\", figsize=(10, 10))\n",
    "plt.set_facecolor('black')"
   ]
  },
  {
   "cell_type": "markdown",
   "id": "ef195cfa-7e30-46d4-934c-a338a4c13747",
   "metadata": {},
   "source": [
    "## OSMPythonTools"
   ]
  },
  {
   "cell_type": "code",
   "execution_count": 35,
   "id": "42550c94-b0d9-4ffc-b426-81e61c04658a",
   "metadata": {},
   "outputs": [],
   "source": [
    "from OSMPythonTools.overpass import Overpass\n",
    "overpass = Overpass()"
   ]
  },
  {
   "cell_type": "code",
   "execution_count": 2,
   "id": "7030ac56-4bf4-4589-9353-b1c3a6b62f83",
   "metadata": {},
   "outputs": [
    {
     "name": "stderr",
     "output_type": "stream",
     "text": [
      "[overpass] downloading data: [timeout:25][out:json];way[\"name\"=\"Stephansdom\"]; out body;\n"
     ]
    },
    {
     "ename": "Exception",
     "evalue": "[overpass] could not fetch or interpret status of the endpoint",
     "output_type": "error",
     "traceback": [
      "\u001b[0;31m---------------------------------------------------------------------------\u001b[0m",
      "\u001b[0;31mIndexError\u001b[0m                                Traceback (most recent call last)",
      "File \u001b[0;32m~/opt/anaconda3/lib/python3.9/site-packages/OSMPythonTools/overpass.py:96\u001b[0m, in \u001b[0;36mOverpass._waitForReady\u001b[0;34m(self)\u001b[0m\n\u001b[1;32m     95\u001b[0m     \u001b[38;5;28;01mreturn\u001b[39;00m \u001b[38;5;28;01mTrue\u001b[39;00m\n\u001b[0;32m---> 96\u001b[0m waitTo \u001b[38;5;241m=\u001b[39m dt\u001b[38;5;241m.\u001b[39mdatetime\u001b[38;5;241m.\u001b[39mstrptime(\u001b[43mstatusString\u001b[49m\u001b[43m[\u001b[49m\u001b[38;5;241;43m3\u001b[39;49m\u001b[43m]\u001b[49m\u001b[38;5;241;43m.\u001b[39;49m\u001b[43msplit\u001b[49m\u001b[43m(\u001b[49m\u001b[38;5;124;43m'\u001b[39;49m\u001b[38;5;124;43m \u001b[39;49m\u001b[38;5;124;43m'\u001b[39;49m\u001b[43m)\u001b[49m\u001b[43m[\u001b[49m\u001b[38;5;241;43m3\u001b[39;49m\u001b[43m]\u001b[49m, \u001b[38;5;124m'\u001b[39m\u001b[38;5;124m%\u001b[39m\u001b[38;5;124mY-\u001b[39m\u001b[38;5;124m%\u001b[39m\u001b[38;5;124mm-\u001b[39m\u001b[38;5;132;01m%d\u001b[39;00m\u001b[38;5;124mT\u001b[39m\u001b[38;5;124m%\u001b[39m\u001b[38;5;124mH:\u001b[39m\u001b[38;5;124m%\u001b[39m\u001b[38;5;124mM:\u001b[39m\u001b[38;5;124m%\u001b[39m\u001b[38;5;124mSZ,\u001b[39m\u001b[38;5;124m'\u001b[39m)\n\u001b[1;32m     97\u001b[0m currentTime \u001b[38;5;241m=\u001b[39m dt\u001b[38;5;241m.\u001b[39mdatetime\u001b[38;5;241m.\u001b[39mstrptime(statusString[\u001b[38;5;241m1\u001b[39m]\u001b[38;5;241m.\u001b[39msplit(\u001b[38;5;124m'\u001b[39m\u001b[38;5;124m \u001b[39m\u001b[38;5;124m'\u001b[39m)[\u001b[38;5;241m2\u001b[39m], \u001b[38;5;124m'\u001b[39m\u001b[38;5;124m%\u001b[39m\u001b[38;5;124mY-\u001b[39m\u001b[38;5;124m%\u001b[39m\u001b[38;5;124mm-\u001b[39m\u001b[38;5;132;01m%d\u001b[39;00m\u001b[38;5;124mT\u001b[39m\u001b[38;5;124m%\u001b[39m\u001b[38;5;124mH:\u001b[39m\u001b[38;5;124m%\u001b[39m\u001b[38;5;124mM:\u001b[39m\u001b[38;5;124m%\u001b[39m\u001b[38;5;124mSZ\u001b[39m\u001b[38;5;124m'\u001b[39m)\n",
      "\u001b[0;31mIndexError\u001b[0m: list index out of range",
      "\nDuring handling of the above exception, another exception occurred:\n",
      "\u001b[0;31mException\u001b[0m                                 Traceback (most recent call last)",
      "Input \u001b[0;32mIn [2]\u001b[0m, in \u001b[0;36m<cell line: 1>\u001b[0;34m()\u001b[0m\n\u001b[0;32m----> 1\u001b[0m result \u001b[38;5;241m=\u001b[39m \u001b[43moverpass\u001b[49m\u001b[38;5;241;43m.\u001b[39;49m\u001b[43mquery\u001b[49m\u001b[43m(\u001b[49m\u001b[38;5;124;43m'\u001b[39;49m\u001b[38;5;124;43mway[\u001b[39;49m\u001b[38;5;124;43m\"\u001b[39;49m\u001b[38;5;124;43mname\u001b[39;49m\u001b[38;5;124;43m\"\u001b[39;49m\u001b[38;5;124;43m=\u001b[39;49m\u001b[38;5;124;43m\"\u001b[39;49m\u001b[38;5;124;43mStephansdom\u001b[39;49m\u001b[38;5;124;43m\"\u001b[39;49m\u001b[38;5;124;43m]; out body;\u001b[39;49m\u001b[38;5;124;43m'\u001b[39;49m\u001b[43m)\u001b[49m\n",
      "File \u001b[0;32m~/opt/anaconda3/lib/python3.9/site-packages/OSMPythonTools/internal/cacheObject.py:44\u001b[0m, in \u001b[0;36mCacheObject.query\u001b[0;34m(self, onlyCached, shallow, *args, **kwargs)\u001b[0m\n\u001b[1;32m     42\u001b[0m makeDownload \u001b[38;5;241m=\u001b[39m \u001b[38;5;28;01mTrue\u001b[39;00m\n\u001b[1;32m     43\u001b[0m OSMPythonTools\u001b[38;5;241m.\u001b[39mlogger\u001b[38;5;241m.\u001b[39mwarning(\u001b[38;5;124m'\u001b[39m\u001b[38;5;124m[\u001b[39m\u001b[38;5;124m'\u001b[39m \u001b[38;5;241m+\u001b[39m \u001b[38;5;28mself\u001b[39m\u001b[38;5;241m.\u001b[39m_prefix \u001b[38;5;241m+\u001b[39m \u001b[38;5;124m'\u001b[39m\u001b[38;5;124m] downloading data: \u001b[39m\u001b[38;5;124m'\u001b[39m \u001b[38;5;241m+\u001b[39m queryString)\n\u001b[0;32m---> 44\u001b[0m \u001b[38;5;28;01mif\u001b[39;00m \u001b[38;5;28;43mself\u001b[39;49m\u001b[38;5;241;43m.\u001b[39;49m\u001b[43m_waitForReady\u001b[49m\u001b[43m(\u001b[49m\u001b[43m)\u001b[49m \u001b[38;5;241m==\u001b[39m \u001b[38;5;28;01mNone\u001b[39;00m:\n\u001b[1;32m     45\u001b[0m     \u001b[38;5;28;01mif\u001b[39;00m \u001b[38;5;28mself\u001b[39m\u001b[38;5;241m.\u001b[39m__lastQuery \u001b[38;5;129;01mand\u001b[39;00m \u001b[38;5;28mself\u001b[39m\u001b[38;5;241m.\u001b[39m__waitBetweenQueries \u001b[38;5;129;01mand\u001b[39;00m time\u001b[38;5;241m.\u001b[39mtime() \u001b[38;5;241m-\u001b[39m \u001b[38;5;28mself\u001b[39m\u001b[38;5;241m.\u001b[39m__lastQuery \u001b[38;5;241m<\u001b[39m \u001b[38;5;28mself\u001b[39m\u001b[38;5;241m.\u001b[39m__waitBetweenQueries:\n\u001b[1;32m     46\u001b[0m         time\u001b[38;5;241m.\u001b[39msleep(\u001b[38;5;28mself\u001b[39m\u001b[38;5;241m.\u001b[39m__waitBetweenQueries \u001b[38;5;241m-\u001b[39m time\u001b[38;5;241m.\u001b[39mtime() \u001b[38;5;241m+\u001b[39m \u001b[38;5;28mself\u001b[39m\u001b[38;5;241m.\u001b[39m__lastQuery)\n",
      "File \u001b[0;32m~/opt/anaconda3/lib/python3.9/site-packages/OSMPythonTools/overpass.py:104\u001b[0m, in \u001b[0;36mOverpass._waitForReady\u001b[0;34m(self)\u001b[0m\n\u001b[1;32m    102\u001b[0m             haveWaited \u001b[38;5;241m=\u001b[39m \u001b[38;5;28;01mTrue\u001b[39;00m\n\u001b[1;32m    103\u001b[0m \u001b[38;5;28;01mexcept\u001b[39;00m:\n\u001b[0;32m--> 104\u001b[0m     \u001b[38;5;28;01mraise\u001b[39;00m(\u001b[38;5;167;01mException\u001b[39;00m(\u001b[38;5;124m'\u001b[39m\u001b[38;5;124m[\u001b[39m\u001b[38;5;124m'\u001b[39m \u001b[38;5;241m+\u001b[39m \u001b[38;5;28mself\u001b[39m\u001b[38;5;241m.\u001b[39m_prefix \u001b[38;5;241m+\u001b[39m \u001b[38;5;124m'\u001b[39m\u001b[38;5;124m] could not fetch or interpret status of the endpoint\u001b[39m\u001b[38;5;124m'\u001b[39m))\n",
      "\u001b[0;31mException\u001b[0m: [overpass] could not fetch or interpret status of the endpoint"
     ]
    }
   ],
   "source": [
    "result = overpass.query('way[\"name\"=\"Stephansdom\"]; out body;')"
   ]
  },
  {
   "cell_type": "code",
   "execution_count": 2,
   "id": "19214826-f4e6-405a-96c6-f2b3d3e138b6",
   "metadata": {},
   "outputs": [
    {
     "name": "stdout",
     "output_type": "stream",
     "text": [
      "3.10.4\n"
     ]
    }
   ],
   "source": [
    "import platform\n",
    "print(platform.python_version())"
   ]
  },
  {
   "cell_type": "code",
   "execution_count": 4,
   "id": "b8863332-4989-4050-942e-807459acbc86",
   "metadata": {},
   "outputs": [
    {
     "name": "stderr",
     "output_type": "stream",
     "text": [
      "[overpass] downloading data: [timeout:25][out:json];area(349036)->.searchArea;(node[\"man_made\"=\"lighthouse\"](area.searchArea);); out body geom;\n"
     ]
    },
    {
     "ename": "Exception",
     "evalue": "[overpass] could not fetch or interpret status of the endpoint",
     "output_type": "error",
     "traceback": [
      "\u001b[0;31m---------------------------------------------------------------------------\u001b[0m",
      "\u001b[0;31mIndexError\u001b[0m                                Traceback (most recent call last)",
      "File \u001b[0;32m~/opt/anaconda3/lib/python3.9/site-packages/OSMPythonTools/overpass.py:96\u001b[0m, in \u001b[0;36mOverpass._waitForReady\u001b[0;34m(self)\u001b[0m\n\u001b[1;32m     95\u001b[0m     \u001b[38;5;28;01mreturn\u001b[39;00m \u001b[38;5;28;01mTrue\u001b[39;00m\n\u001b[0;32m---> 96\u001b[0m waitTo \u001b[38;5;241m=\u001b[39m dt\u001b[38;5;241m.\u001b[39mdatetime\u001b[38;5;241m.\u001b[39mstrptime(\u001b[43mstatusString\u001b[49m\u001b[43m[\u001b[49m\u001b[38;5;241;43m3\u001b[39;49m\u001b[43m]\u001b[49m\u001b[38;5;241;43m.\u001b[39;49m\u001b[43msplit\u001b[49m\u001b[43m(\u001b[49m\u001b[38;5;124;43m'\u001b[39;49m\u001b[38;5;124;43m \u001b[39;49m\u001b[38;5;124;43m'\u001b[39;49m\u001b[43m)\u001b[49m\u001b[43m[\u001b[49m\u001b[38;5;241;43m3\u001b[39;49m\u001b[43m]\u001b[49m, \u001b[38;5;124m'\u001b[39m\u001b[38;5;124m%\u001b[39m\u001b[38;5;124mY-\u001b[39m\u001b[38;5;124m%\u001b[39m\u001b[38;5;124mm-\u001b[39m\u001b[38;5;132;01m%d\u001b[39;00m\u001b[38;5;124mT\u001b[39m\u001b[38;5;124m%\u001b[39m\u001b[38;5;124mH:\u001b[39m\u001b[38;5;124m%\u001b[39m\u001b[38;5;124mM:\u001b[39m\u001b[38;5;124m%\u001b[39m\u001b[38;5;124mSZ,\u001b[39m\u001b[38;5;124m'\u001b[39m)\n\u001b[1;32m     97\u001b[0m currentTime \u001b[38;5;241m=\u001b[39m dt\u001b[38;5;241m.\u001b[39mdatetime\u001b[38;5;241m.\u001b[39mstrptime(statusString[\u001b[38;5;241m1\u001b[39m]\u001b[38;5;241m.\u001b[39msplit(\u001b[38;5;124m'\u001b[39m\u001b[38;5;124m \u001b[39m\u001b[38;5;124m'\u001b[39m)[\u001b[38;5;241m2\u001b[39m], \u001b[38;5;124m'\u001b[39m\u001b[38;5;124m%\u001b[39m\u001b[38;5;124mY-\u001b[39m\u001b[38;5;124m%\u001b[39m\u001b[38;5;124mm-\u001b[39m\u001b[38;5;132;01m%d\u001b[39;00m\u001b[38;5;124mT\u001b[39m\u001b[38;5;124m%\u001b[39m\u001b[38;5;124mH:\u001b[39m\u001b[38;5;124m%\u001b[39m\u001b[38;5;124mM:\u001b[39m\u001b[38;5;124m%\u001b[39m\u001b[38;5;124mSZ\u001b[39m\u001b[38;5;124m'\u001b[39m)\n",
      "\u001b[0;31mIndexError\u001b[0m: list index out of range",
      "\nDuring handling of the above exception, another exception occurred:\n",
      "\u001b[0;31mException\u001b[0m                                 Traceback (most recent call last)",
      "Input \u001b[0;32mIn [4]\u001b[0m, in \u001b[0;36m<cell line: 4>\u001b[0;34m()\u001b[0m\n\u001b[1;32m      2\u001b[0m overpass \u001b[38;5;241m=\u001b[39m Overpass()\n\u001b[1;32m      3\u001b[0m query \u001b[38;5;241m=\u001b[39m overpassQueryBuilder(area\u001b[38;5;241m=\u001b[39m\u001b[38;5;241m349036\u001b[39m, elementType\u001b[38;5;241m=\u001b[39m[\u001b[38;5;124m'\u001b[39m\u001b[38;5;124mnode\u001b[39m\u001b[38;5;124m'\u001b[39m], selector\u001b[38;5;241m=\u001b[39m\u001b[38;5;124m'\u001b[39m\u001b[38;5;124m\"\u001b[39m\u001b[38;5;124mman_made\u001b[39m\u001b[38;5;124m\"\u001b[39m\u001b[38;5;124m=\u001b[39m\u001b[38;5;124m\"\u001b[39m\u001b[38;5;124mlighthouse\u001b[39m\u001b[38;5;124m\"\u001b[39m\u001b[38;5;124m'\u001b[39m, includeGeometry\u001b[38;5;241m=\u001b[39m\u001b[38;5;28;01mTrue\u001b[39;00m)\n\u001b[0;32m----> 4\u001b[0m result \u001b[38;5;241m=\u001b[39m \u001b[43moverpass\u001b[49m\u001b[38;5;241;43m.\u001b[39;49m\u001b[43mquery\u001b[49m\u001b[43m(\u001b[49m\u001b[43mquery\u001b[49m\u001b[43m)\u001b[49m\n",
      "File \u001b[0;32m~/opt/anaconda3/lib/python3.9/site-packages/OSMPythonTools/internal/cacheObject.py:44\u001b[0m, in \u001b[0;36mCacheObject.query\u001b[0;34m(self, onlyCached, shallow, *args, **kwargs)\u001b[0m\n\u001b[1;32m     42\u001b[0m makeDownload \u001b[38;5;241m=\u001b[39m \u001b[38;5;28;01mTrue\u001b[39;00m\n\u001b[1;32m     43\u001b[0m OSMPythonTools\u001b[38;5;241m.\u001b[39mlogger\u001b[38;5;241m.\u001b[39mwarning(\u001b[38;5;124m'\u001b[39m\u001b[38;5;124m[\u001b[39m\u001b[38;5;124m'\u001b[39m \u001b[38;5;241m+\u001b[39m \u001b[38;5;28mself\u001b[39m\u001b[38;5;241m.\u001b[39m_prefix \u001b[38;5;241m+\u001b[39m \u001b[38;5;124m'\u001b[39m\u001b[38;5;124m] downloading data: \u001b[39m\u001b[38;5;124m'\u001b[39m \u001b[38;5;241m+\u001b[39m queryString)\n\u001b[0;32m---> 44\u001b[0m \u001b[38;5;28;01mif\u001b[39;00m \u001b[38;5;28;43mself\u001b[39;49m\u001b[38;5;241;43m.\u001b[39;49m\u001b[43m_waitForReady\u001b[49m\u001b[43m(\u001b[49m\u001b[43m)\u001b[49m \u001b[38;5;241m==\u001b[39m \u001b[38;5;28;01mNone\u001b[39;00m:\n\u001b[1;32m     45\u001b[0m     \u001b[38;5;28;01mif\u001b[39;00m \u001b[38;5;28mself\u001b[39m\u001b[38;5;241m.\u001b[39m__lastQuery \u001b[38;5;129;01mand\u001b[39;00m \u001b[38;5;28mself\u001b[39m\u001b[38;5;241m.\u001b[39m__waitBetweenQueries \u001b[38;5;129;01mand\u001b[39;00m time\u001b[38;5;241m.\u001b[39mtime() \u001b[38;5;241m-\u001b[39m \u001b[38;5;28mself\u001b[39m\u001b[38;5;241m.\u001b[39m__lastQuery \u001b[38;5;241m<\u001b[39m \u001b[38;5;28mself\u001b[39m\u001b[38;5;241m.\u001b[39m__waitBetweenQueries:\n\u001b[1;32m     46\u001b[0m         time\u001b[38;5;241m.\u001b[39msleep(\u001b[38;5;28mself\u001b[39m\u001b[38;5;241m.\u001b[39m__waitBetweenQueries \u001b[38;5;241m-\u001b[39m time\u001b[38;5;241m.\u001b[39mtime() \u001b[38;5;241m+\u001b[39m \u001b[38;5;28mself\u001b[39m\u001b[38;5;241m.\u001b[39m__lastQuery)\n",
      "File \u001b[0;32m~/opt/anaconda3/lib/python3.9/site-packages/OSMPythonTools/overpass.py:104\u001b[0m, in \u001b[0;36mOverpass._waitForReady\u001b[0;34m(self)\u001b[0m\n\u001b[1;32m    102\u001b[0m             haveWaited \u001b[38;5;241m=\u001b[39m \u001b[38;5;28;01mTrue\u001b[39;00m\n\u001b[1;32m    103\u001b[0m \u001b[38;5;28;01mexcept\u001b[39;00m:\n\u001b[0;32m--> 104\u001b[0m     \u001b[38;5;28;01mraise\u001b[39;00m(\u001b[38;5;167;01mException\u001b[39;00m(\u001b[38;5;124m'\u001b[39m\u001b[38;5;124m[\u001b[39m\u001b[38;5;124m'\u001b[39m \u001b[38;5;241m+\u001b[39m \u001b[38;5;28mself\u001b[39m\u001b[38;5;241m.\u001b[39m_prefix \u001b[38;5;241m+\u001b[39m \u001b[38;5;124m'\u001b[39m\u001b[38;5;124m] could not fetch or interpret status of the endpoint\u001b[39m\u001b[38;5;124m'\u001b[39m))\n",
      "\u001b[0;31mException\u001b[0m: [overpass] could not fetch or interpret status of the endpoint"
     ]
    }
   ],
   "source": [
    "from OSMPythonTools.overpass import overpassQueryBuilder, Overpass\n",
    "overpass = Overpass()\n",
    "query = overpassQueryBuilder(area=349036, elementType=['node'], selector='\"man_made\"=\"lighthouse\"', includeGeometry=True)\n",
    "result = overpass.query(query)"
   ]
  },
  {
   "cell_type": "code",
   "execution_count": 44,
   "id": "b38f68d7-c99d-4d2c-b545-02054b2dc929",
   "metadata": {},
   "outputs": [
    {
     "name": "stderr",
     "output_type": "stream",
     "text": [
      "[overpass] downloading data: [timeout:25][out:json];\n",
      "area[name = \"Galicia\"];\n",
      "node[\"man_made\" = \"lighthouse\"](area);\n",
      "out body;\n"
     ]
    },
    {
     "ename": "Exception",
     "evalue": "[overpass] could not fetch or interpret status of the endpoint",
     "output_type": "error",
     "traceback": [
      "\u001b[0;31m---------------------------------------------------------------------------\u001b[0m",
      "\u001b[0;31mIndexError\u001b[0m                                Traceback (most recent call last)",
      "File \u001b[0;32m~/opt/anaconda3/lib/python3.9/site-packages/OSMPythonTools/overpass.py:96\u001b[0m, in \u001b[0;36mOverpass._waitForReady\u001b[0;34m(self)\u001b[0m\n\u001b[1;32m     95\u001b[0m     \u001b[38;5;28;01mreturn\u001b[39;00m \u001b[38;5;28;01mTrue\u001b[39;00m\n\u001b[0;32m---> 96\u001b[0m waitTo \u001b[38;5;241m=\u001b[39m dt\u001b[38;5;241m.\u001b[39mdatetime\u001b[38;5;241m.\u001b[39mstrptime(\u001b[43mstatusString\u001b[49m\u001b[43m[\u001b[49m\u001b[38;5;241;43m3\u001b[39;49m\u001b[43m]\u001b[49m\u001b[38;5;241;43m.\u001b[39;49m\u001b[43msplit\u001b[49m\u001b[43m(\u001b[49m\u001b[38;5;124;43m'\u001b[39;49m\u001b[38;5;124;43m \u001b[39;49m\u001b[38;5;124;43m'\u001b[39;49m\u001b[43m)\u001b[49m\u001b[43m[\u001b[49m\u001b[38;5;241;43m3\u001b[39;49m\u001b[43m]\u001b[49m, \u001b[38;5;124m'\u001b[39m\u001b[38;5;124m%\u001b[39m\u001b[38;5;124mY-\u001b[39m\u001b[38;5;124m%\u001b[39m\u001b[38;5;124mm-\u001b[39m\u001b[38;5;132;01m%d\u001b[39;00m\u001b[38;5;124mT\u001b[39m\u001b[38;5;124m%\u001b[39m\u001b[38;5;124mH:\u001b[39m\u001b[38;5;124m%\u001b[39m\u001b[38;5;124mM:\u001b[39m\u001b[38;5;124m%\u001b[39m\u001b[38;5;124mSZ,\u001b[39m\u001b[38;5;124m'\u001b[39m)\n\u001b[1;32m     97\u001b[0m currentTime \u001b[38;5;241m=\u001b[39m dt\u001b[38;5;241m.\u001b[39mdatetime\u001b[38;5;241m.\u001b[39mstrptime(statusString[\u001b[38;5;241m1\u001b[39m]\u001b[38;5;241m.\u001b[39msplit(\u001b[38;5;124m'\u001b[39m\u001b[38;5;124m \u001b[39m\u001b[38;5;124m'\u001b[39m)[\u001b[38;5;241m2\u001b[39m], \u001b[38;5;124m'\u001b[39m\u001b[38;5;124m%\u001b[39m\u001b[38;5;124mY-\u001b[39m\u001b[38;5;124m%\u001b[39m\u001b[38;5;124mm-\u001b[39m\u001b[38;5;132;01m%d\u001b[39;00m\u001b[38;5;124mT\u001b[39m\u001b[38;5;124m%\u001b[39m\u001b[38;5;124mH:\u001b[39m\u001b[38;5;124m%\u001b[39m\u001b[38;5;124mM:\u001b[39m\u001b[38;5;124m%\u001b[39m\u001b[38;5;124mSZ\u001b[39m\u001b[38;5;124m'\u001b[39m)\n",
      "\u001b[0;31mIndexError\u001b[0m: list index out of range",
      "\nDuring handling of the above exception, another exception occurred:\n",
      "\u001b[0;31mException\u001b[0m                                 Traceback (most recent call last)",
      "Input \u001b[0;32mIn [44]\u001b[0m, in \u001b[0;36m<cell line: 2>\u001b[0;34m()\u001b[0m\n\u001b[1;32m      1\u001b[0m overpass \u001b[38;5;241m=\u001b[39m Overpass()\n\u001b[0;32m----> 2\u001b[0m result \u001b[38;5;241m=\u001b[39m \u001b[43moverpass\u001b[49m\u001b[38;5;241;43m.\u001b[39;49m\u001b[43mquery\u001b[49m\u001b[43m(\u001b[49m\u001b[38;5;124;43m\"\"\"\u001b[39;49m\n\u001b[1;32m      3\u001b[0m \u001b[38;5;124;43marea[name = \u001b[39;49m\u001b[38;5;124;43m\"\u001b[39;49m\u001b[38;5;124;43mGalicia\u001b[39;49m\u001b[38;5;124;43m\"\u001b[39;49m\u001b[38;5;124;43m];\u001b[39;49m\n\u001b[1;32m      4\u001b[0m \u001b[38;5;124;43mnode[\u001b[39;49m\u001b[38;5;124;43m\"\u001b[39;49m\u001b[38;5;124;43mman_made\u001b[39;49m\u001b[38;5;124;43m\"\u001b[39;49m\u001b[38;5;124;43m = \u001b[39;49m\u001b[38;5;124;43m\"\u001b[39;49m\u001b[38;5;124;43mlighthouse\u001b[39;49m\u001b[38;5;124;43m\"\u001b[39;49m\u001b[38;5;124;43m](area);\u001b[39;49m\n\u001b[1;32m      5\u001b[0m \u001b[38;5;124;43mout body;\u001b[39;49m\u001b[38;5;124;43m\"\"\"\u001b[39;49m\u001b[43m)\u001b[49m\n",
      "File \u001b[0;32m~/opt/anaconda3/lib/python3.9/site-packages/OSMPythonTools/internal/cacheObject.py:44\u001b[0m, in \u001b[0;36mCacheObject.query\u001b[0;34m(self, onlyCached, shallow, *args, **kwargs)\u001b[0m\n\u001b[1;32m     42\u001b[0m makeDownload \u001b[38;5;241m=\u001b[39m \u001b[38;5;28;01mTrue\u001b[39;00m\n\u001b[1;32m     43\u001b[0m OSMPythonTools\u001b[38;5;241m.\u001b[39mlogger\u001b[38;5;241m.\u001b[39mwarning(\u001b[38;5;124m'\u001b[39m\u001b[38;5;124m[\u001b[39m\u001b[38;5;124m'\u001b[39m \u001b[38;5;241m+\u001b[39m \u001b[38;5;28mself\u001b[39m\u001b[38;5;241m.\u001b[39m_prefix \u001b[38;5;241m+\u001b[39m \u001b[38;5;124m'\u001b[39m\u001b[38;5;124m] downloading data: \u001b[39m\u001b[38;5;124m'\u001b[39m \u001b[38;5;241m+\u001b[39m queryString)\n\u001b[0;32m---> 44\u001b[0m \u001b[38;5;28;01mif\u001b[39;00m \u001b[38;5;28;43mself\u001b[39;49m\u001b[38;5;241;43m.\u001b[39;49m\u001b[43m_waitForReady\u001b[49m\u001b[43m(\u001b[49m\u001b[43m)\u001b[49m \u001b[38;5;241m==\u001b[39m \u001b[38;5;28;01mNone\u001b[39;00m:\n\u001b[1;32m     45\u001b[0m     \u001b[38;5;28;01mif\u001b[39;00m \u001b[38;5;28mself\u001b[39m\u001b[38;5;241m.\u001b[39m__lastQuery \u001b[38;5;129;01mand\u001b[39;00m \u001b[38;5;28mself\u001b[39m\u001b[38;5;241m.\u001b[39m__waitBetweenQueries \u001b[38;5;129;01mand\u001b[39;00m time\u001b[38;5;241m.\u001b[39mtime() \u001b[38;5;241m-\u001b[39m \u001b[38;5;28mself\u001b[39m\u001b[38;5;241m.\u001b[39m__lastQuery \u001b[38;5;241m<\u001b[39m \u001b[38;5;28mself\u001b[39m\u001b[38;5;241m.\u001b[39m__waitBetweenQueries:\n\u001b[1;32m     46\u001b[0m         time\u001b[38;5;241m.\u001b[39msleep(\u001b[38;5;28mself\u001b[39m\u001b[38;5;241m.\u001b[39m__waitBetweenQueries \u001b[38;5;241m-\u001b[39m time\u001b[38;5;241m.\u001b[39mtime() \u001b[38;5;241m+\u001b[39m \u001b[38;5;28mself\u001b[39m\u001b[38;5;241m.\u001b[39m__lastQuery)\n",
      "File \u001b[0;32m~/opt/anaconda3/lib/python3.9/site-packages/OSMPythonTools/overpass.py:104\u001b[0m, in \u001b[0;36mOverpass._waitForReady\u001b[0;34m(self)\u001b[0m\n\u001b[1;32m    102\u001b[0m             haveWaited \u001b[38;5;241m=\u001b[39m \u001b[38;5;28;01mTrue\u001b[39;00m\n\u001b[1;32m    103\u001b[0m \u001b[38;5;28;01mexcept\u001b[39;00m:\n\u001b[0;32m--> 104\u001b[0m     \u001b[38;5;28;01mraise\u001b[39;00m(\u001b[38;5;167;01mException\u001b[39;00m(\u001b[38;5;124m'\u001b[39m\u001b[38;5;124m[\u001b[39m\u001b[38;5;124m'\u001b[39m \u001b[38;5;241m+\u001b[39m \u001b[38;5;28mself\u001b[39m\u001b[38;5;241m.\u001b[39m_prefix \u001b[38;5;241m+\u001b[39m \u001b[38;5;124m'\u001b[39m\u001b[38;5;124m] could not fetch or interpret status of the endpoint\u001b[39m\u001b[38;5;124m'\u001b[39m))\n",
      "\u001b[0;31mException\u001b[0m: [overpass] could not fetch or interpret status of the endpoint"
     ]
    }
   ],
   "source": [
    "overpass = Overpass()\n",
    "result = overpass.query(\"\"\"\n",
    "area[name = \"Galicia\"];\n",
    "node[\"man_made\" = \"lighthouse\"](area);\n",
    "out body;\"\"\")"
   ]
  },
  {
   "cell_type": "code",
   "execution_count": 161,
   "id": "f50320dd-90fd-4251-bb28-d1970d2bb1e7",
   "metadata": {},
   "outputs": [
    {
     "data": {
      "text/html": [
       "<div>\n",
       "<style scoped>\n",
       "    .dataframe tbody tr th:only-of-type {\n",
       "        vertical-align: middle;\n",
       "    }\n",
       "\n",
       "    .dataframe tbody tr th {\n",
       "        vertical-align: top;\n",
       "    }\n",
       "\n",
       "    .dataframe thead th {\n",
       "        text-align: right;\n",
       "    }\n",
       "</style>\n",
       "<table border=\"1\" class=\"dataframe\">\n",
       "  <thead>\n",
       "    <tr style=\"text-align: right;\">\n",
       "      <th></th>\n",
       "      <th>geometry</th>\n",
       "      <th>type</th>\n",
       "      <th>id</th>\n",
       "      <th>tags</th>\n",
       "    </tr>\n",
       "  </thead>\n",
       "  <tbody>\n",
       "    <tr>\n",
       "      <th>0</th>\n",
       "      <td>POINT (-8.99052 43.27492)</td>\n",
       "      <td>node</td>\n",
       "      <td>278605200</td>\n",
       "      <td>{'description': 'El nombre de Roncudo viene de...</td>\n",
       "    </tr>\n",
       "    <tr>\n",
       "      <th>1</th>\n",
       "      <td>POINT (-8.80109 42.39662)</td>\n",
       "      <td>node</td>\n",
       "      <td>279464803</td>\n",
       "      <td>{'man_made': 'lighthouse', 'seamark:light:char...</td>\n",
       "    </tr>\n",
       "    <tr>\n",
       "      <th>2</th>\n",
       "      <td>POINT (-8.31454 43.56765)</td>\n",
       "      <td>node</td>\n",
       "      <td>353954167</td>\n",
       "      <td>{'man_made': 'lighthouse', 'name': 'Cabo Prior...</td>\n",
       "    </tr>\n",
       "    <tr>\n",
       "      <th>3</th>\n",
       "      <td>POINT (-8.18836 43.61807)</td>\n",
       "      <td>node</td>\n",
       "      <td>364101774</td>\n",
       "      <td>{'man_made': 'lighthouse', 'name': 'Faro de Pu...</td>\n",
       "    </tr>\n",
       "    <tr>\n",
       "      <th>4</th>\n",
       "      <td>POINT (-8.04709 43.71083)</td>\n",
       "      <td>node</td>\n",
       "      <td>388517872</td>\n",
       "      <td>{'alt_name': 'Punta Candeeira', 'man_made': 'l...</td>\n",
       "    </tr>\n",
       "  </tbody>\n",
       "</table>\n",
       "</div>"
      ],
      "text/plain": [
       "                    geometry  type         id  \\\n",
       "0  POINT (-8.99052 43.27492)  node  278605200   \n",
       "1  POINT (-8.80109 42.39662)  node  279464803   \n",
       "2  POINT (-8.31454 43.56765)  node  353954167   \n",
       "3  POINT (-8.18836 43.61807)  node  364101774   \n",
       "4  POINT (-8.04709 43.71083)  node  388517872   \n",
       "\n",
       "                                                tags  \n",
       "0  {'description': 'El nombre de Roncudo viene de...  \n",
       "1  {'man_made': 'lighthouse', 'seamark:light:char...  \n",
       "2  {'man_made': 'lighthouse', 'name': 'Cabo Prior...  \n",
       "3  {'man_made': 'lighthouse', 'name': 'Faro de Pu...  \n",
       "4  {'alt_name': 'Punta Candeeira', 'man_made': 'l...  "
      ]
     },
     "execution_count": 161,
     "metadata": {},
     "output_type": "execute_result"
    }
   ],
   "source": [
    "geojson = osm2geojson.json2geojson(result.toJSON())\n",
    "faros = geopandas.GeoDataFrame.from_features(geojson)\n",
    "faros.head()"
   ]
  },
  {
   "cell_type": "code",
   "execution_count": 28,
   "id": "7236852f-b811-45cc-83c9-e92f963bebeb",
   "metadata": {},
   "outputs": [
    {
     "ename": "AttributeError",
     "evalue": "plot",
     "output_type": "error",
     "traceback": [
      "\u001b[0;31m---------------------------------------------------------------------------\u001b[0m",
      "\u001b[0;31mTypeError\u001b[0m                                 Traceback (most recent call last)",
      "File \u001b[0;32m~/opt/anaconda3/lib/python3.9/site-packages/geojson/feature.py:59\u001b[0m, in \u001b[0;36mFeatureCollection.__getitem__\u001b[0;34m(self, key)\u001b[0m\n\u001b[1;32m     58\u001b[0m \u001b[38;5;28;01mtry\u001b[39;00m:\n\u001b[0;32m---> 59\u001b[0m     \u001b[38;5;28;01mreturn\u001b[39;00m \u001b[38;5;28;43mself\u001b[39;49m\u001b[38;5;241;43m.\u001b[39;49m\u001b[43mget\u001b[49m\u001b[43m(\u001b[49m\u001b[38;5;124;43m\"\u001b[39;49m\u001b[38;5;124;43mfeatures\u001b[39;49m\u001b[38;5;124;43m\"\u001b[39;49m\u001b[43m,\u001b[49m\u001b[43m \u001b[49m\u001b[43m(\u001b[49m\u001b[43m)\u001b[49m\u001b[43m)\u001b[49m\u001b[43m[\u001b[49m\u001b[43mkey\u001b[49m\u001b[43m]\u001b[49m\n\u001b[1;32m     60\u001b[0m \u001b[38;5;28;01mexcept\u001b[39;00m (\u001b[38;5;167;01mKeyError\u001b[39;00m, \u001b[38;5;167;01mTypeError\u001b[39;00m, \u001b[38;5;167;01mIndexError\u001b[39;00m):\n",
      "\u001b[0;31mTypeError\u001b[0m: list indices must be integers or slices, not str",
      "\nDuring handling of the above exception, another exception occurred:\n",
      "\u001b[0;31mKeyError\u001b[0m                                  Traceback (most recent call last)",
      "File \u001b[0;32m~/opt/anaconda3/lib/python3.9/site-packages/geojson/base.py:40\u001b[0m, in \u001b[0;36mGeoJSON.__getattr__\u001b[0;34m(self, name)\u001b[0m\n\u001b[1;32m     39\u001b[0m \u001b[38;5;28;01mtry\u001b[39;00m:\n\u001b[0;32m---> 40\u001b[0m     \u001b[38;5;28;01mreturn\u001b[39;00m \u001b[38;5;28;43mself\u001b[39;49m\u001b[43m[\u001b[49m\u001b[43mname\u001b[49m\u001b[43m]\u001b[49m\n\u001b[1;32m     41\u001b[0m \u001b[38;5;28;01mexcept\u001b[39;00m \u001b[38;5;167;01mKeyError\u001b[39;00m:\n",
      "File \u001b[0;32m~/opt/anaconda3/lib/python3.9/site-packages/geojson/feature.py:61\u001b[0m, in \u001b[0;36mFeatureCollection.__getitem__\u001b[0;34m(self, key)\u001b[0m\n\u001b[1;32m     60\u001b[0m \u001b[38;5;28;01mexcept\u001b[39;00m (\u001b[38;5;167;01mKeyError\u001b[39;00m, \u001b[38;5;167;01mTypeError\u001b[39;00m, \u001b[38;5;167;01mIndexError\u001b[39;00m):\n\u001b[0;32m---> 61\u001b[0m     \u001b[38;5;28;01mreturn\u001b[39;00m \u001b[38;5;28;43msuper\u001b[39;49m\u001b[43m(\u001b[49m\u001b[43mGeoJSON\u001b[49m\u001b[43m,\u001b[49m\u001b[43m \u001b[49m\u001b[38;5;28;43mself\u001b[39;49m\u001b[43m)\u001b[49m\u001b[38;5;241;43m.\u001b[39;49m\u001b[38;5;21;43m__getitem__\u001b[39;49m\u001b[43m(\u001b[49m\u001b[43mkey\u001b[49m\u001b[43m)\u001b[49m\n",
      "\u001b[0;31mKeyError\u001b[0m: 'plot'",
      "\nDuring handling of the above exception, another exception occurred:\n",
      "\u001b[0;31mAttributeError\u001b[0m                            Traceback (most recent call last)",
      "Input \u001b[0;32mIn [28]\u001b[0m, in \u001b[0;36m<cell line: 1>\u001b[0;34m()\u001b[0m\n\u001b[0;32m----> 1\u001b[0m plt \u001b[38;5;241m=\u001b[39m \u001b[43mfaros\u001b[49m\u001b[38;5;241;43m.\u001b[39;49m\u001b[43mplot\u001b[49m(color\u001b[38;5;241m=\u001b[39m\u001b[38;5;124m\"\u001b[39m\u001b[38;5;124myellow\u001b[39m\u001b[38;5;124m\"\u001b[39m, figsize\u001b[38;5;241m=\u001b[39m(\u001b[38;5;241m10\u001b[39m, \u001b[38;5;241m10\u001b[39m))\n\u001b[1;32m      2\u001b[0m plt\u001b[38;5;241m.\u001b[39mset_facecolor(\u001b[38;5;124m'\u001b[39m\u001b[38;5;124mblack\u001b[39m\u001b[38;5;124m'\u001b[39m)\n",
      "File \u001b[0;32m~/opt/anaconda3/lib/python3.9/site-packages/geojson/base.py:42\u001b[0m, in \u001b[0;36mGeoJSON.__getattr__\u001b[0;34m(self, name)\u001b[0m\n\u001b[1;32m     40\u001b[0m     \u001b[38;5;28;01mreturn\u001b[39;00m \u001b[38;5;28mself\u001b[39m[name]\n\u001b[1;32m     41\u001b[0m \u001b[38;5;28;01mexcept\u001b[39;00m \u001b[38;5;167;01mKeyError\u001b[39;00m:\n\u001b[0;32m---> 42\u001b[0m     \u001b[38;5;28;01mraise\u001b[39;00m \u001b[38;5;167;01mAttributeError\u001b[39;00m(name)\n",
      "\u001b[0;31mAttributeError\u001b[0m: plot"
     ]
    }
   ],
   "source": [
    "plt = faros.plot(color=\"yellow\", figsize=(10, 10))\n",
    "plt.set_facecolor('black')"
   ]
  },
  {
   "cell_type": "code",
   "execution_count": null,
   "id": "d1b7bd09-7db9-4a32-ac34-cfeed39a0143",
   "metadata": {},
   "outputs": [],
   "source": []
  }
 ],
 "metadata": {
  "kernelspec": {
   "display_name": "Python 3 (ipykernel)",
   "language": "python",
   "name": "python3"
  },
  "language_info": {
   "codemirror_mode": {
    "name": "ipython",
    "version": 3
   },
   "file_extension": ".py",
   "mimetype": "text/x-python",
   "name": "python",
   "nbconvert_exporter": "python",
   "pygments_lexer": "ipython3",
   "version": "3.9.12"
  }
 },
 "nbformat": 4,
 "nbformat_minor": 5
}
